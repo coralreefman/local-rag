{
 "cells": [
  {
   "cell_type": "code",
   "execution_count": 2,
   "metadata": {},
   "outputs": [
    {
     "data": {
      "text/plain": [
       "{'models': [{'name': 'llama3.1:latest',\n",
       "   'model': 'llama3.1:latest',\n",
       "   'modified_at': '2024-11-18T14:33:25.305661201+01:00',\n",
       "   'size': 4661230766,\n",
       "   'digest': '42182419e9508c30c4b1fe55015f06b65f4ca4b9e28a744be55008d21998a093',\n",
       "   'details': {'parent_model': '',\n",
       "    'format': 'gguf',\n",
       "    'family': 'llama',\n",
       "    'families': ['llama'],\n",
       "    'parameter_size': '8.0B',\n",
       "    'quantization_level': 'Q4_0'}}]}"
      ]
     },
     "execution_count": 2,
     "metadata": {},
     "output_type": "execute_result"
    }
   ],
   "source": [
    "import ollama\n",
    "ollama.list()"
   ]
  },
  {
   "cell_type": "code",
   "execution_count": 3,
   "metadata": {},
   "outputs": [
    {
     "name": "stderr",
     "output_type": "stream",
     "text": [
      "USER_AGENT environment variable not set, consider setting it to identify your requests.\n"
     ]
    }
   ],
   "source": [
    "from langchain_community.document_loaders import WebBaseLoader\n",
    "import os\n",
    "\n",
    "os.environ['USER_AGENT'] = 'Mozilla/5.0 (Windows NT 10.0; Win64; x64) AppleWebKit/537.36 (KHTML, like Gecko) Chrome/120.0.0.0 Safari/537.36'"
   ]
  },
  {
   "cell_type": "code",
   "execution_count": 4,
   "metadata": {},
   "outputs": [
    {
     "name": "stdout",
     "output_type": "stream",
     "text": [
      "Learn how to own your home and live anywhere | Home0001HOME0001MenuHOME0001MenuHomes:0001: Lower East SideStudioStudio Max1 Bedroom0001: Bed-Stuy1 Bedroom2 Bedroom0001: Echo Park TownhousesTownhouse Type ATownhouse Type B0001: Echo Park BungalowsBungalow 1Bungalow 20001: Peckham1 BEDROOM0001: Hackney2 BEDROOM0001: Schöneberg1 BEDROOM0001 GDSHow It WorksContact UsLegalPrices:Fiat CryptoHomes:0001: Lower East SideStudioStudio Max1 Bedroom0001: Bed-Stuy1 Bedroom2 Bedroom0001: Echo Park TownhousesTownhouse Type ATownhouse Type B0001: Echo Park BungalowsBungalow 1Bungalow 20001: Peckham1 BEDROOM0001: Hackney2 BEDROOM0001: Schöneberg1 BEDROOM0001 homes are fully equipped, part of a global network, and uniquely simple to buy and own.HOW IT WORKS:Buy.We’ve reinvented the typical months-long ordeal of buying a home and streamlined every part of it. You can spend time in your new home to see how it feels and then buy it online instantly, safely, and securely. We’ll guide you through each step, from choosing the right home and getting financing to completing the purchase online at your own pace.Move in.Each new 0001 home is fully equipped with all the furniture, appliances, and home essentials you’ll need. Developed in collaboration with world-class architects, every detail has been thoughtfully designed, so you can truly move in with nothing but your suitcase.Swap.HOME0001 is a peer-to-peer housing collective. Members of the collective get access to 0001 homes in other locations, so you can spend time in other places for free while making your home available to other members while you’re away.Total control.You own your home outright. You're 100% in control, just like owning any other home. It’s your call whether you make your home available to other members of the collective, and you’re free to rent or sell your home however and whenever you like.FAQ:Do I own my 0001 home outright?Yes. Owning a 0001 home is no different than when purchasing any other property. HOME0001 is distinguished by a commitment to meticulous and cohesive design with the added benefit of access to our network of homes so you can spend time in similar properties around the world for free.Do I need a broker?No, you don't need a real estate broker to buy a 0001 home. We’re licensed to guide you through the process from beginning to end. You can use your own mortgage broker, real estate attorney, etc., or we can introduce you to our network of vetted professionals.Is furniture included?Yes, each new home comes fully furnished and equipped so that you can move in easily with just your suitcase. Each interior is designed for flexibility and functionality and we work directly with designers from our community to source pieces often straight from their studios.Do I have to make my home available?No, that’s entirely optional. There's no requirement to make your home available to other members unless you specifically want to take advantage of staying at another 0001 home for free during that time.Can I change the design of my 0001 home?Absolutely! You are free to change, renovate, or even remodel your home as you see fit. However, for continued access to HOME0001's network in other locations, your home does need to meet our standards and our team will be happy to support you in making changes where desired.How do I book a 0001 home somewhere else?Whenever you want to spend time in other HOME0001 locations, just text us your dates and we'll confirm availability. You cover one cleaning fee each time you swap homes and don't pay any nightly rates. 0001 homes are fitted with smart locks, so you can gain access to your new place with your phone. You’ll be invited to any community events that are taking place locally and you’ll have continual access to our virtual concierge service so you can text us whenever you need anything.© 2024 HOME0001New york · los angeles · berlin · london · paris · mexico city0001 GDShow it workscontact usInstagramlegalCookies Settings© 2024 HOME0001NY DRE #10351211814CA DRE #01427385NY DRE #10351211814CA DRE #02236922WE USE COOKIES.Accept/Reject/Settings\n"
     ]
    }
   ],
   "source": [
    "loader_multiple_pages = WebBaseLoader([\"https://www.home0001.com/how-it-works\", \"https://www.home0001.com/legal\"])\n",
    "docs = loader_multiple_pages.load()\n",
    "print(docs[0].page_content)"
   ]
  },
  {
   "cell_type": "code",
   "execution_count": 6,
   "metadata": {},
   "outputs": [
    {
     "name": "stdout",
     "output_type": "stream",
     "text": [
      "99\n",
      "990\n",
      "{'source': 'https://www.home0001.com/legal', 'title': 'Legal Notices for 0001 homes live flexibly own your home', 'description': 'Own the perfect home.', 'language': 'en'}\n"
     ]
    }
   ],
   "source": [
    "from langchain_chroma import Chroma\n",
    "from langchain_ollama import OllamaEmbeddings\n",
    "from langchain_text_splitters import RecursiveCharacterTextSplitter\n",
    "\n",
    "# set up the splitter\n",
    "text_splitter = RecursiveCharacterTextSplitter(chunk_size=1000, chunk_overlap=200)\n",
    "# split the docs\n",
    "splits = text_splitter.split_documents(docs)\n",
    "# create a vector database with the splits\n",
    "vectorstore = Chroma.from_documents(\n",
    "    documents=splits, \n",
    "    embedding=OllamaEmbeddings(model=\"llama3.1\"),\n",
    "    # persist_directory=\"./chroma_langchain_db\",  # Where to save data locally, remove if not necessary\n",
    ")\n",
    "\n",
    "print(len(splits))\n",
    "print(len(splits[12].page_content))\n",
    "print(splits[12].metadata)"
   ]
  },
  {
   "cell_type": "code",
   "execution_count": 7,
   "metadata": {},
   "outputs": [
    {
     "name": "stdout",
     "output_type": "stream",
     "text": [
      "6\n",
      "not always secure, please do not include credit card or other sensitive information in your emails to us.© 2024 HOME0001New york · los angeles · berlin · london · paris · mexico city0001 GDShow it workscontact usInstagramlegalCookies Settings© 2024 HOME0001NY DRE #10351211814CA DRE #01427385NY DRE #10351211814CA DRE #02236922WE USE COOKIES.Accept/Reject/Settings\n"
     ]
    }
   ],
   "source": [
    "# Retrieve and generate using the relevant snippets of the site.\n",
    "# retriever = vectorstore.as_retriever()\n",
    "\n",
    "retriever = vectorstore.as_retriever(search_type=\"similarity\", search_kwargs={\"k\": 6})\n",
    "retrieved_docs = retriever.invoke(\"What is home0001?\")\n",
    "\n",
    "print(len(retrieved_docs))\n",
    "print(retrieved_docs[0].page_content)"
   ]
  },
  {
   "cell_type": "code",
   "execution_count": 8,
   "metadata": {},
   "outputs": [
    {
     "name": "stderr",
     "output_type": "stream",
     "text": [
      "/home/studio/anaconda3/envs/rag/lib/python3.10/site-packages/langsmith/client.py:241: LangSmithMissingAPIKeyWarning: API key must be provided when using hosted LangSmith API\n",
      "  warnings.warn(\n"
     ]
    }
   ],
   "source": [
    "from langchain import hub\n",
    "\n",
    "prompt = hub.pull(\"rlm/rag-prompt\")"
   ]
  },
  {
   "cell_type": "code",
   "execution_count": 9,
   "metadata": {},
   "outputs": [],
   "source": [
    "from langchain_ollama import ChatOllama\n",
    "\n",
    "\n",
    "llm = ChatOllama(\n",
    "    model = \"llama3.1\",\n",
    "    temperature = 0.8,\n",
    "    num_predict = 256,\n",
    "    # other params ...\n",
    ")"
   ]
  },
  {
   "cell_type": "code",
   "execution_count": 13,
   "metadata": {},
   "outputs": [
    {
     "name": "stdout",
     "output_type": "stream",
     "text": [
      "Home0001 appears to be a home-sharing company that allows members to book homes in various locations. It seems to provide smart locks for secure access, community events, and a virtual concierge service. The company is registered in New York and has offices in several cities worldwide./n\n",
      "No, you cannot rent an apartment from this context as it appears to be a real estate sales website with terms and conditions for purchasing homes, not renting apartments. The language used suggests buying and selling properties rather than rentals.\n"
     ]
    }
   ],
   "source": [
    "from langchain_core.output_parsers import StrOutputParser\n",
    "from langchain_core.runnables import RunnablePassthrough\n",
    "\n",
    "def format_docs(docs):\n",
    "    return \"\\n\\n\".join(doc.page_content for doc in docs)\n",
    "\n",
    "# print(format_docs(docs))\n",
    "\n",
    "rag_chain = (\n",
    "    {\"context\": retriever | format_docs, \"question\": RunnablePassthrough()}\n",
    "    | prompt\n",
    "    | llm\n",
    "    | StrOutputParser()\n",
    ")\n",
    "\n",
    "for chunk in rag_chain.stream(\"What is Home0001?\"):\n",
    "    print(chunk, end=\"\", flush=True)\n",
    "\n",
    "print(\"/n\")\n",
    "print(rag_chain.invoke(\"can i rent an apartment?\"))"
   ]
  }
 ],
 "metadata": {
  "kernelspec": {
   "display_name": "rag",
   "language": "python",
   "name": "python3"
  },
  "language_info": {
   "codemirror_mode": {
    "name": "ipython",
    "version": 3
   },
   "file_extension": ".py",
   "mimetype": "text/x-python",
   "name": "python",
   "nbconvert_exporter": "python",
   "pygments_lexer": "ipython3",
   "version": "3.10.15"
  }
 },
 "nbformat": 4,
 "nbformat_minor": 2
}
