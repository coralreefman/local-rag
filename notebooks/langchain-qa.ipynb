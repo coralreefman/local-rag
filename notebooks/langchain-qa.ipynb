{
 "cells": [
  {
   "cell_type": "code",
   "execution_count": 26,
   "metadata": {},
   "outputs": [],
   "source": [
    "import json\n",
    "# Load JSON data\n",
    "with open(\"data/home0001qa.json\", \"r\") as file:\n",
    "    qa_data = json.load(file)"
   ]
  },
  {
   "cell_type": "markdown",
   "metadata": {},
   "source": [
    "Because we have a question / answer dataset with relatively short answers, we don't needwe don't need to use a splitter"
   ]
  },
  {
   "cell_type": "code",
   "execution_count": 27,
   "metadata": {},
   "outputs": [
    {
     "data": {
      "text/plain": [
       "[Document(metadata={'question': 'Do i own my 0001 home outright?'}, page_content='When you buy a 0001 home, you own the title in the traditional way. If you need, we’ll help you find the right mortgage and can recommend real estate lawyers. You keep full legal ownership of your home, with the added benefit that you can spend time in other locations whenever you want.'),\n",
       " Document(metadata={'question': 'Does furniture come included?'}, page_content='Yes, each new home comes fully furnished and equipped so that you can move in easily with just your suitcase. Each interior is designed for flexibility and functionality and we work directly with designers from our community to source pieces often straight from their studios.'),\n",
       " Document(metadata={'question': 'Can i change the design of my home?'}, page_content=\"Legally you own your home and are free to do what you want with it. However, to maintain access to home0001's network in other locations, your home does need to meet our standards and our team can support you in making changes where desired.\"),\n",
       " Document(metadata={'question': 'Are you open to negotiation on price?'}, page_content='No. The practice of negotiation has been shown to systemically disadvantage certain buyer groups, and bidding wars can pit buyers against each other and drive prices up unreasonably. We research the market meticulously and negotiate the best price for our community based on comparable homes sold recently. And by representing a large community of buyers, we’re able to negotiate discounts on entire buildings from developers.'),\n",
       " Document(metadata={'question': 'Do i need a broker?'}, page_content=\"You don't need a real estate broker to buy an 0001 home. We’re licensed to guide you through the process from beginning to end. You can use your own mortgage broker, real estate attorney, etc., or we can intro you to good people to work with.\")]"
      ]
     },
     "execution_count": 27,
     "metadata": {},
     "output_type": "execute_result"
    }
   ],
   "source": [
    "from langchain.schema import Document\n",
    "# Prepare documents for LangChain\n",
    "documents = [\n",
    "    Document(page_content=item[\"answer\"], metadata={\"question\": item[\"question\"]})\n",
    "    for item in qa_data\n",
    "]\n",
    "\n",
    "documents[:5]"
   ]
  },
  {
   "cell_type": "code",
   "execution_count": 28,
   "metadata": {},
   "outputs": [
    {
     "name": "stdout",
     "output_type": "stream",
     "text": [
      "[Document(metadata={'question': 'Do i own my 0001 home outright?'}, page_content='When you buy a 0001 home, you own the title in the traditional way. If you need, we’ll help you find the right mortgage and can recommend real estate lawyers. You keep full legal ownership of your home, with the added benefit that you can spend time in other locations whenever you want.'), Document(metadata={'question': 'Does furniture come included?'}, page_content='Yes, each new home comes fully furnished and equipped so that you can move in easily with just your suitcase. Each interior is designed for flexibility and functionality and we work directly with designers from our community to source pieces often straight from their studios.'), Document(metadata={'question': 'Can i change the design of my home?'}, page_content=\"Legally you own your home and are free to do what you want with it. However, to maintain access to home0001's network in other locations, your home does need to meet our standards and our team can support you in making changes where desired.\"), Document(metadata={'question': 'Are you open to negotiation on price?'}, page_content='No. The practice of negotiation has been shown to systemically disadvantage certain buyer groups, and bidding wars can pit buyers against each other and drive prices up unreasonably. We research the market meticulously and negotiate the best price for our community based on comparable homes sold recently. And by representing a large community of buyers, we’re able to negotiate discounts on entire buildings from developers.'), Document(metadata={'question': 'Do i need a broker?'}, page_content=\"You don't need a real estate broker to buy an 0001 home. We’re licensed to guide you through the process from beginning to end. You can use your own mortgage broker, real estate attorney, etc., or we can intro you to good people to work with.\")]\n"
     ]
    }
   ],
   "source": [
    "# turn into function\n",
    "def prepare_qa_documents(file_path):\n",
    "    with open(file_path, 'r') as f:\n",
    "        qa_data = json.load(f)\n",
    "    \n",
    "    documents = [\n",
    "        Document(\n",
    "            page_content=item[\"answer\"],\n",
    "            metadata={\"question\": item[\"question\"]}\n",
    "        )\n",
    "        for item in qa_data\n",
    "    ]\n",
    "    \n",
    "    return documents\n",
    "\n",
    "print(prepare_qa_documents(\"data/home0001qa.json\")[:5])"
   ]
  },
  {
   "cell_type": "code",
   "execution_count": 34,
   "metadata": {},
   "outputs": [],
   "source": [
    "from langchain_openai import OpenAIEmbeddings\n",
    "from langchain_openai import ChatOpenAI\n",
    "from langchain.vectorstores import Chroma\n",
    "from langchain.prompts import ChatPromptTemplate\n",
    "from langchain.schema.runnable import RunnablePassthrough\n",
    "from langchain_core.output_parsers import StrOutputParser\n"
   ]
  },
  {
   "cell_type": "code",
   "execution_count": 35,
   "metadata": {},
   "outputs": [],
   "source": [
    "def setup_rag(documents):\n",
    "    \n",
    "    embeddings = OpenAIEmbeddings()\n",
    "    vectorstore = Chroma.from_documents(documents, embeddings)\n",
    "    \n",
    "    llm = ChatOpenAI(model=\"gpt-4o-mini\")\n",
    "    prompt = ChatPromptTemplate.from_messages([\n",
    "        (\"system\", \"\"\"Use the following similar Q&A pairs to help answer the question. \n",
    "        If the context is relevant, use it to answer. If not, say you don't have enough information.\n",
    "        \n",
    "        Context Q&A pairs:\n",
    "        {context}\n",
    "        \"\"\"),\n",
    "        (\"human\", \"{question}\")\n",
    "    ])\n",
    "    \n",
    "    chain = (\n",
    "        {\"context\": vectorstore.as_retriever(search_type=\"similarity\", k=3), \"question\": RunnablePassthrough()}\n",
    "        | prompt\n",
    "        | llm\n",
    "        | StrOutputParser()\n",
    "    )\n",
    "    \n",
    "    return chain"
   ]
  },
  {
   "cell_type": "code",
   "execution_count": 36,
   "metadata": {},
   "outputs": [],
   "source": [
    "docs = prepare_qa_documents('data/home0001qa.json')\n",
    "chain = setup_rag(docs)"
   ]
  },
  {
   "cell_type": "code",
   "execution_count": 38,
   "metadata": {},
   "outputs": [
    {
     "name": "stdout",
     "output_type": "stream",
     "text": [
      "Yes, when you buy a 0001 home, you own it in the traditional way. You have full ownership and can do whatever you want with it, including buying, selling, or renovating it. You own the title to the home, and it's not a timeshare or rental scheme. It's yours outright.\n"
     ]
    }
   ],
   "source": [
    "print(chain.invoke(\"Do i own my 0001 home outright?\"))"
   ]
  },
  {
   "cell_type": "code",
   "execution_count": 39,
   "metadata": {},
   "outputs": [
    {
     "name": "stdout",
     "output_type": "stream",
     "text": [
      "Home0001 is a global housing network. Each 0001 home is fully-equipped and furnished, allowing you to move in with just your suitcase. You can also swap cities whenever you like."
     ]
    }
   ],
   "source": [
    "for chunk in chain.stream(\"What is Home0001?\"):\n",
    "    print(chunk, end=\"\", flush=True)"
   ]
  }
 ],
 "metadata": {
  "kernelspec": {
   "display_name": "rag",
   "language": "python",
   "name": "python3"
  },
  "language_info": {
   "codemirror_mode": {
    "name": "ipython",
    "version": 3
   },
   "file_extension": ".py",
   "mimetype": "text/x-python",
   "name": "python",
   "nbconvert_exporter": "python",
   "pygments_lexer": "ipython3",
   "version": "3.10.15"
  }
 },
 "nbformat": 4,
 "nbformat_minor": 2
}
