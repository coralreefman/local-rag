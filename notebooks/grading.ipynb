{
 "cells": [
  {
   "cell_type": "markdown",
   "metadata": {},
   "source": [
    "https://langchain-ai.github.io/langgraph/tutorials/rag/langgraph_adaptive_rag_local/  \n",
    "\n",
    "https://www.youtube.com/watch?v=bq1Plo2RhYI  \n"
   ]
  },
  {
   "cell_type": "code",
   "execution_count": 23,
   "metadata": {},
   "outputs": [],
   "source": [
    "from langchain_ollama import ChatOllama\n",
    "\n",
    "llm_model = \"llama3.2:3b-instruct-fp16\"\n",
    "\n",
    "llm_json_mode = ChatOllama(model=llm_model, temperature=0, format='json')"
   ]
  },
  {
   "cell_type": "code",
   "execution_count": 24,
   "metadata": {},
   "outputs": [],
   "source": [
    "from langchain_nomic.embeddings import NomicEmbeddings\n",
    "\n",
    "embeddings = NomicEmbeddings(model='nomic-embed-text-v1.5', inference_mode='local')"
   ]
  },
  {
   "cell_type": "code",
   "execution_count": 25,
   "metadata": {},
   "outputs": [
    {
     "name": "stdout",
     "output_type": "stream",
     "text": [
      "[Document(metadata={'question': 'Do i own my 0001 home outright?'}, page_content='Q: Do i own my 0001 home outright? A: When you buy a 0001 home, you own the title in the traditional way. If you need, we’ll help you find the right mortgage and can recommend real estate lawyers. You keep full legal ownership of your home, with the added benefit that you can spend time in other locations whenever you want.')]\n"
     ]
    }
   ],
   "source": [
    "from langchain.schema import Document\n",
    "import json\n",
    "\n",
    "def prepare_qa_documents(file_path):\n",
    "    with open(file_path, 'r') as f:\n",
    "        qa_data = json.load(f)\n",
    "    \n",
    "    documents = [\n",
    "        Document(\n",
    "            page_content= f\"Q: {item['question']} A: {item['answer']}\",\n",
    "            metadata={\"question\": item[\"question\"]}\n",
    "        )\n",
    "        for item in qa_data\n",
    "    ]\n",
    "    \n",
    "    return documents\n",
    "\n",
    "documents = prepare_qa_documents(\"../data/home0001qa.json\")\n",
    "print(documents[:1])"
   ]
  },
  {
   "cell_type": "code",
   "execution_count": 26,
   "metadata": {},
   "outputs": [],
   "source": [
    "from langchain_community.vectorstores import FAISS\n",
    "\n",
    "vectorstore = FAISS.from_documents(documents, embeddings)\n",
    "\n",
    "retriever = vectorstore.as_retriever(k=3)"
   ]
  },
  {
   "cell_type": "code",
   "execution_count": 27,
   "metadata": {},
   "outputs": [
    {
     "data": {
      "text/plain": [
       "[Document(metadata={'question': 'Do i own my 0001 home outright?'}, page_content='Q: Do i own my 0001 home outright? A: When you buy a 0001 home, you own the title in the traditional way. If you need, we’ll help you find the right mortgage and can recommend real estate lawyers. You keep full legal ownership of your home, with the added benefit that you can spend time in other locations whenever you want.'),\n",
       " Document(metadata={'question': 'Do i fully own my 0001 home?'}, page_content=\"Q: Do i fully own my 0001 home? A: When you buy a 0001 home you own it the normal way. You can do whatever you want with it. Buy it. Sell it. Renovate it. It's not a timeshare or some bs rental scheme. You own the title to the home. It's yours.\"),\n",
       " Document(metadata={'question': 'Do i have to make my 0001 home available, and can i rent out or sell my 0001 home?'}, page_content=\"Q: Do i have to make my 0001 home available, and can i rent out or sell my 0001 home? A: You own your home. You're in control. If you don’t want your place to be available to other 0001 homeowners while you’re away, that’s fine—you just won’t be able to make use of other 0001 homes during that time. You’re also free to rent out your home (in accordance with local laws and building rules). And you can sell your home however you like, whenever you like—you own the title. Work with a broker of your choice or use our resale service to simplify the process.\"),\n",
       " Document(metadata={'question': 'How does buying a 0001 home differ from the traditional home buying process?'}, page_content=\"Q: How does buying a 0001 home differ from the traditional home buying process? A: When you buy a 0001 home, you own the title on your individual home in the traditional way (so you can qualify for a regular mortgage). It's not a timeshare or a rental—it's exactly like owning any other home. We guide you through the purchase process, from choosing the right home, to obtaining financing, to moving in and getting to know your neighbors. Selling directly to our community without expensive brokers’ fees means that we can put everything into creating an extraordinary experience for homebuyers – with access to 0001 homes in other locations and beautifully designed interiors at no additional cost.\")]"
      ]
     },
     "execution_count": 27,
     "metadata": {},
     "output_type": "execute_result"
    }
   ],
   "source": [
    "retriever.invoke(\"Do i own my 0001 home outright?\")"
   ]
  },
  {
   "cell_type": "code",
   "execution_count": 28,
   "metadata": {},
   "outputs": [],
   "source": [
    "# Doc grader instructions\n",
    "doc_grader_instructions = \"\"\"You are a grader assessing relevance of a retrieved document to a user question.\n",
    "\n",
    "If the document contains keyword(s) or semantic meaning related to the question, grade it as relevant.\"\"\"\n",
    "\n",
    "# Grader prompt\n",
    "doc_grader_prompt = \"\"\"Here is the retrieved document: \\n\\n {document} \\n\\n Here is the user question: \\n\\n {question}. \n",
    "\n",
    "This carefully and objectively assess whether the document contains at least some information that is relevant to the question.\n",
    "\n",
    "Return JSON with single key, binary_score, that is 'yes' or 'no' score to indicate whether the document contains at least some information that is relevant to the question.\"\"\""
   ]
  },
  {
   "cell_type": "code",
   "execution_count": 29,
   "metadata": {},
   "outputs": [
    {
     "name": "stdout",
     "output_type": "stream",
     "text": [
      "Q: Does furniture come included? A: Yes, each new home comes fully furnished and equipped so that you can move in easily with just your suitcase. Each interior is designed for flexibility and functionality and we work directly with designers from our community to source pieces often straight from their studios.\n",
      "{'binary_score': 'yes'}\n"
     ]
    }
   ],
   "source": [
    "from langchain_core.messages import HumanMessage, SystemMessage\n",
    "\n",
    "# Test\n",
    "question = \"Does furniture come included?\"\n",
    "docs = retriever.invoke(question)\n",
    "doc_txt = docs[0].page_content\n",
    "doc_grader_prompt_formatted = doc_grader_prompt.format(\n",
    "    document=doc_txt, question=question\n",
    ")\n",
    "result = llm_json_mode.invoke(\n",
    "    [SystemMessage(content=doc_grader_instructions)]\n",
    "    + [HumanMessage(content=doc_grader_prompt_formatted)]\n",
    ")\n",
    "\n",
    "print(doc_txt)\n",
    "print(json.loads(result.content))"
   ]
  },
  {
   "cell_type": "code",
   "execution_count": 34,
   "metadata": {},
   "outputs": [],
   "source": [
    "def grade_documents(documents, question):\n",
    "  \n",
    "    # Score each doc\n",
    "    filtered_docs = []\n",
    "\n",
    "    for d in documents:\n",
    "        doc_grader_prompt_formatted = doc_grader_prompt.format(\n",
    "            document=d.page_content, question=question\n",
    "        )\n",
    "        result = llm_json_mode.invoke(\n",
    "            [SystemMessage(content=doc_grader_instructions)]\n",
    "            + [HumanMessage(content=doc_grader_prompt_formatted)]\n",
    "        )\n",
    "        grade = json.loads(result.content)[\"binary_score\"]\n",
    "        # Document relevant\n",
    "        if grade.lower() == \"yes\":\n",
    "            print(\"---GRADE: DOCUMENT RELEVANT---\")\n",
    "            filtered_docs.append(d)\n",
    "        # Document not relevant\n",
    "        else:\n",
    "            print(\"---GRADE: DOCUMENT NOT RELEVANT---\")\n",
    "            # We do not include the document in filtered_docs\n",
    "            continue\n",
    "\n",
    "    return {\"documents\": filtered_docs}"
   ]
  },
  {
   "cell_type": "code",
   "execution_count": 36,
   "metadata": {},
   "outputs": [
    {
     "name": "stdout",
     "output_type": "stream",
     "text": [
      "---GRADE: DOCUMENT RELEVANT---\n",
      "---GRADE: DOCUMENT RELEVANT---\n",
      "---GRADE: DOCUMENT NOT RELEVANT---\n",
      "---GRADE: DOCUMENT NOT RELEVANT---\n"
     ]
    }
   ],
   "source": [
    "question = \"Do i own my 0001 home outright?\"\n",
    "retrieved_docs = retriever.invoke(question)\n",
    "filtered_docs = grade_documents(retrieved_docs, question)\n"
   ]
  },
  {
   "cell_type": "code",
   "execution_count": 31,
   "metadata": {},
   "outputs": [
    {
     "name": "stdout",
     "output_type": "stream",
     "text": [
      " \n",
      "    this is a hello\n",
      "\n"
     ]
    }
   ],
   "source": [
    "test_string = \"\"\" \n",
    "    this is a {test}\n",
    "\"\"\"\n",
    "\n",
    "formatted_test_string = test_string.format(test=\"hello\")\n",
    "\n",
    "print(formatted_test_string)"
   ]
  },
  {
   "cell_type": "code",
   "execution_count": 32,
   "metadata": {},
   "outputs": [],
   "source": [
    "# TO DO: HALLUCINATION GRADER\n",
    "# ANSWER GRADER "
   ]
  }
 ],
 "metadata": {
  "kernelspec": {
   "display_name": "rag",
   "language": "python",
   "name": "python3"
  },
  "language_info": {
   "codemirror_mode": {
    "name": "ipython",
    "version": 3
   },
   "file_extension": ".py",
   "mimetype": "text/x-python",
   "name": "python",
   "nbconvert_exporter": "python",
   "pygments_lexer": "ipython3",
   "version": "3.10.15"
  }
 },
 "nbformat": 4,
 "nbformat_minor": 2
}
