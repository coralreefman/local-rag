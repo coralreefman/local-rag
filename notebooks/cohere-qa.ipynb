{
 "cells": [
  {
   "cell_type": "code",
   "execution_count": null,
   "metadata": {},
   "outputs": [
    {
     "name": "stderr",
     "output_type": "stream",
     "text": [
      "/home/studio/anaconda3/envs/rag/lib/python3.10/site-packages/tqdm/auto.py:21: TqdmWarning: IProgress not found. Please update jupyter and ipywidgets. See https://ipywidgets.readthedocs.io/en/stable/user_install.html\n",
      "  from .autonotebook import tqdm as notebook_tqdm\n"
     ]
    }
   ],
   "source": [
    "import cohere\n",
    "import datasets\n",
    "from llama_index.core import StorageContext, VectorStoreIndex, load_index_from_storage\n",
    "from llama_index.core.schema import TextNode\n",
    "from llama_index.embeddings.cohere import CohereEmbedding\n",
    "import pandas as pd\n",
    "\n",
    "import json\n",
    "from pathlib import Path\n",
    "from tqdm import tqdm\n",
    "from typing import List"
   ]
  },
  {
   "cell_type": "code",
   "execution_count": 3,
   "metadata": {},
   "outputs": [],
   "source": [
    "from dotenv import load_dotenv\n",
    "import os\n",
    "\n",
    "# Load the .env file\n",
    "load_dotenv()\n",
    "cohere_api_key = os.getenv('COHERE_API_KEY')\n",
    "\n",
    "co = cohere.Client(api_key=cohere_api_key)"
   ]
  },
  {
   "cell_type": "markdown",
   "metadata": {},
   "source": [
    "### Basic embeddings"
   ]
  },
  {
   "cell_type": "code",
   "execution_count": 4,
   "metadata": {},
   "outputs": [],
   "source": [
    "embed_model = CohereEmbedding(\n",
    "    cohere_api_key=cohere_api_key,\n",
    "    model_name=\"embed-english-v3.0\"\n",
    ")"
   ]
  },
  {
   "cell_type": "code",
   "execution_count": 9,
   "metadata": {},
   "outputs": [
    {
     "name": "stdout",
     "output_type": "stream",
     "text": [
      "['Q: Do i own my 0001 home outright? A: When you buy a 0001 home, you own the title in the traditional way. If you need, we’ll help you find the right mortgage and can recommend real estate lawyers. You keep full legal ownership of your home, with the added benefit that you can spend time in other locations whenever you want.']\n"
     ]
    }
   ],
   "source": [
    "def prepare_qa_texts(file_path):\n",
    "    with open(file_path, 'r') as f:\n",
    "        data = json.load(f)\n",
    "    \n",
    "    texts = [f\"Q: {item['question']} A: {item['answer']}\" for item in data]\n",
    "    \n",
    "    return texts\n",
    "\n",
    "texts = prepare_qa_texts(\"../data/home0001qa.json\")\n",
    "print(texts[:1])"
   ]
  },
  {
   "cell_type": "code",
   "execution_count": 15,
   "metadata": {},
   "outputs": [],
   "source": [
    "embeddings = co.embed(\n",
    "    texts=texts,\n",
    "    model=\"embed-english-v3.0\",\n",
    "    input_type=\"search_document\",\n",
    "    embedding_types=['float']\n",
    ")"
   ]
  },
  {
   "cell_type": "code",
   "execution_count": 16,
   "metadata": {},
   "outputs": [
    {
     "name": "stdout",
     "output_type": "stream",
     "text": [
      "50\n"
     ]
    }
   ],
   "source": [
    "print(len(embeddings.embeddings.float))"
   ]
  },
  {
   "cell_type": "markdown",
   "metadata": {},
   "source": [
    "### Embeddings with Text Nodes"
   ]
  },
  {
   "cell_type": "code",
   "execution_count": 19,
   "metadata": {},
   "outputs": [
    {
     "name": "stdout",
     "output_type": "stream",
     "text": [
      "Node ID: b6d6d46d-7b97-4139-b401-80d484795e8f\n",
      "Text: Q: Do i own my 0001 home outright? A: When you buy a 0001 home,\n",
      "you own the title in the traditional way. If you need, we’ll help you\n",
      "find the right mortgage and can recommend real estate lawyers. You\n",
      "keep full legal ownership of your home, with the added benefit that\n",
      "you can spend time in other locations whenever you want.\n",
      "{'question': 'Do i own my 0001 home outright?'}\n"
     ]
    }
   ],
   "source": [
    "def prepare_text_nodes(file_path):\n",
    "\n",
    "    with open(file_path, 'r') as f:\n",
    "        data = json.load(f)\n",
    "\n",
    "    nodes = [\n",
    "        TextNode(\n",
    "            text=f\"Q: {entry['question']}\\nA: {entry['answer']}\",\n",
    "            metadata={\"question\": entry[\"question\"]}\n",
    "        )\n",
    "        for idx, entry in enumerate(data)\n",
    "    ]\n",
    "    return nodes\n",
    "\n",
    "text_nodes = prepare_text_nodes(\"../data/home0001qa.json\")\n",
    "\n",
    "print(text_nodes[0])\n",
    "print(text_nodes[0].metadata)\n"
   ]
  },
  {
   "cell_type": "code",
   "execution_count": 20,
   "metadata": {},
   "outputs": [],
   "source": [
    "index = VectorStoreIndex(text_nodes, embed_model=embed_model)\n",
    "\n",
    "index.storage_context.persist(\"./cohere\")"
   ]
  },
  {
   "cell_type": "code",
   "execution_count": 22,
   "metadata": {},
   "outputs": [],
   "source": [
    "# To load persist db\n",
    "storage_context = StorageContext.from_defaults(persist_dir=\"./cohere\")\n",
    "\n",
    "index = load_index_from_storage(storage_context, embed_model=embed_model)"
   ]
  },
  {
   "cell_type": "code",
   "execution_count": 21,
   "metadata": {},
   "outputs": [],
   "source": [
    "retriever = index.as_retriever(similarity_top_k=3)"
   ]
  },
  {
   "cell_type": "markdown",
   "metadata": {},
   "source": [
    "### Retriever with rerank"
   ]
  },
  {
   "cell_type": "code",
   "execution_count": 26,
   "metadata": {},
   "outputs": [],
   "source": [
    "class RetrieverWithRerank:\n",
    "    def __init__(self, retriever, api_key):\n",
    "        self.retriever = retriever\n",
    "        self.co = cohere.Client(api_key=api_key)\n",
    "\n",
    "    def retrieve(self, query: str, top_n: int):\n",
    "        # First call to the retriever fetches the closest indices\n",
    "        nodes = self.retriever.retrieve(query)\n",
    "        nodes = [\n",
    "            {\n",
    "                \"text\": node.node.text,\n",
    "                \"llamaindex_id\": node.node.id_,\n",
    "            }\n",
    "            for node\n",
    "            in nodes\n",
    "        ]\n",
    "        # Call co.rerank to improve the relevance of retrieved documents\n",
    "        reranked = self.co.rerank(query=query, documents=nodes, model=\"rerank-english-v3.0\", top_n=top_n)\n",
    "        nodes = [nodes[node.index] for node in reranked.results]\n",
    "        return nodes\n",
    "\n",
    "\n",
    "top_k = 10 # how many documents to fetch on first pass\n",
    "top_n = 4 # how many documents to sub-select with rerank\n",
    "\n",
    "retriever = RetrieverWithRerank(\n",
    "    index.as_retriever(similarity_top_k=top_k),\n",
    "    api_key=cohere_api_key,\n",
    ")\n",
    "\n"
   ]
  },
  {
   "cell_type": "code",
   "execution_count": 29,
   "metadata": {},
   "outputs": [
    {
     "name": "stdout",
     "output_type": "stream",
     "text": [
      "HOME0001 is currently only available in Los Angeles and New York City. However, there are plans to expand this housing co-op to other major cities soon, including Paris, Berlin, London, Mexico City, and some rural locations.\n"
     ]
    }
   ],
   "source": [
    "query = \"Where is HOME0001 available?\"\n",
    "\n",
    "documents = retriever.retrieve(query, top_n=top_n)\n",
    "\n",
    "response = co.chat(message=query, model=\"command-r\", temperature=0., documents=documents)\n",
    "print(response.text)"
   ]
  },
  {
   "cell_type": "code",
   "execution_count": 30,
   "metadata": {},
   "outputs": [
    {
     "name": "stdout",
     "output_type": "stream",
     "text": [
      "HOME0001 is currently only available in Los Angeles [0, 2, 3]  and New York City. [0, 2, 3]  However, there are plans to expand this housing co-op [3]  to other major cities soon [0] , including Paris [0, 2] , Berlin [0, 2] , London [0, 2] , Mexico City [0] , and some rural locations. [0] \n"
     ]
    }
   ],
   "source": [
    "def build_answer_with_citations(response):\n",
    "    \"\"\" \"\"\"\n",
    "    text = response.text\n",
    "    citations = response.citations\n",
    "\n",
    "    # Construct text_with_citations adding citation spans as we iterate through citations\n",
    "    end = 0\n",
    "    text_with_citations = \"\"\n",
    "\n",
    "    for citation in citations:\n",
    "        # Add snippet between last citatiton and current citation\n",
    "        start = citation.start\n",
    "        text_with_citations += text[end : start]\n",
    "        end = citation.end  # overwrite\n",
    "        citation_blocks = \" [\" + \", \".join([stub[4:] for stub in citation.document_ids]) + \"] \"\n",
    "        text_with_citations += text[start : end] + citation_blocks\n",
    "    # Add any left-over\n",
    "    text_with_citations += text[end:]\n",
    "\n",
    "    return text_with_citations\n",
    "\n",
    "grounded_answer = build_answer_with_citations(response)\n",
    "print(grounded_answer)"
   ]
  }
 ],
 "metadata": {
  "kernelspec": {
   "display_name": "rag",
   "language": "python",
   "name": "python3"
  },
  "language_info": {
   "codemirror_mode": {
    "name": "ipython",
    "version": 3
   },
   "file_extension": ".py",
   "mimetype": "text/x-python",
   "name": "python",
   "nbconvert_exporter": "python",
   "pygments_lexer": "ipython3",
   "version": "3.10.15"
  }
 },
 "nbformat": 4,
 "nbformat_minor": 2
}
