{
 "cells": [
  {
   "cell_type": "markdown",
   "metadata": {},
   "source": [
    "### Langchain + BeautifulSoup"
   ]
  },
  {
   "cell_type": "code",
   "execution_count": null,
   "metadata": {},
   "outputs": [],
   "source": [
    "from langchain_community.document_loaders import BSHTMLLoader\n",
    "\n",
    "file_path = 'https://www.home0001.com/property/lower-east-side'\n",
    "\n",
    "loader = BSHTMLLoader(file_path)\n",
    "data = loader.load()\n",
    "\n",
    "print(data)"
   ]
  },
  {
   "cell_type": "markdown",
   "metadata": {},
   "source": [
    "### FireCrawl"
   ]
  },
  {
   "cell_type": "markdown",
   "metadata": {},
   "source": [
    "#### Modes\n",
    "- `scrape`: Scrape single url and return the markdown.  \n",
    "- `crawl`: Crawl the url and all accessible sub pages and return the markdown for each one.  \n",
    "- `map`: Maps the URL and returns a list of semantically related pages.  \n"
   ]
  },
  {
   "cell_type": "code",
   "execution_count": null,
   "metadata": {},
   "outputs": [],
   "source": [
    "from dotenv import load_dotenv\n",
    "import os\n",
    "\n",
    "# Load the .env file\n",
    "load_dotenv()\n",
    "fc_api_key = os.getenv('FIRECRAWL_API_KEY')\n",
    "\n",
    "from langchain_community.document_loaders.firecrawl import FireCrawlLoader\n",
    "\n",
    "loader = FireCrawlLoader(\n",
    "    api_key=fc_api_key, url=\"https://www.home0001.com/\", mode=\"crawl\"\n",
    ")"
   ]
  },
  {
   "cell_type": "code",
   "execution_count": null,
   "metadata": {},
   "outputs": [],
   "source": [
    "pages = loader.load()\n",
    "\n",
    "for page in pages:\n",
    "    print(page.page_content)\n"
   ]
  },
  {
   "cell_type": "markdown",
   "metadata": {},
   "source": [
    "the problem is that 'read more' sections are not being opened.  \n",
    "is there a way to get a crawler to click on those?  \n",
    "Otherwise it's probably easier to get all the raw data straight from the backend "
   ]
  },
  {
   "cell_type": "markdown",
   "metadata": {},
   "source": []
  }
 ],
 "metadata": {
  "kernelspec": {
   "display_name": "rag",
   "language": "python",
   "name": "python3"
  },
  "language_info": {
   "codemirror_mode": {
    "name": "ipython",
    "version": 3
   },
   "file_extension": ".py",
   "mimetype": "text/x-python",
   "name": "python",
   "nbconvert_exporter": "python",
   "pygments_lexer": "ipython3",
   "version": "3.10.15"
  }
 },
 "nbformat": 4,
 "nbformat_minor": 2
}
