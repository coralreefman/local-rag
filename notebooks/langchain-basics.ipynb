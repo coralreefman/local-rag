{
 "cells": [
  {
   "cell_type": "markdown",
   "metadata": {},
   "source": [
    "### Dependencies\n",
    "`langchain_community`  \n",
    "`langchain-huggingface`  \n",
    "`langchain-openai`  \n",
    "\n"
   ]
  },
  {
   "cell_type": "markdown",
   "metadata": {},
   "source": [
    "## Super Basic Embedding Example"
   ]
  },
  {
   "cell_type": "markdown",
   "metadata": {},
   "source": [
    "#### Instantiate"
   ]
  },
  {
   "cell_type": "code",
   "execution_count": 116,
   "metadata": {},
   "outputs": [],
   "source": [
    "from langchain_openai import OpenAIEmbeddings\n",
    "\n",
    "embeddings = OpenAIEmbeddings(\n",
    "    model=\"text-embedding-3-large\",\n",
    "    dimensions=1024  # size of the embeddings you want returned.\n",
    ")"
   ]
  },
  {
   "cell_type": "markdown",
   "metadata": {},
   "source": [
    "#### Embed single query"
   ]
  },
  {
   "cell_type": "code",
   "execution_count": 97,
   "metadata": {},
   "outputs": [],
   "source": [
    "test_query = embeddings.embed_query(\"HOME0001 is a peer-to-peer housing collective.\")"
   ]
  },
  {
   "cell_type": "code",
   "execution_count": 98,
   "metadata": {},
   "outputs": [
    {
     "name": "stdout",
     "output_type": "stream",
     "text": [
      "<class 'list'>\n",
      "1024\n",
      "[-0.08352159708738327, -0.0033498413395136595, -0.02903749980032444]\n"
     ]
    }
   ],
   "source": [
    "print(type(test_query))\n",
    "print(len(test_query))\n",
    "print(test_query[:3])"
   ]
  },
  {
   "cell_type": "markdown",
   "metadata": {},
   "source": [
    "#### Embed list of texts"
   ]
  },
  {
   "cell_type": "code",
   "execution_count": 105,
   "metadata": {},
   "outputs": [],
   "source": [
    "raw_documents = [\n",
    "        \"0001 HOMES ARE FULLY EQUIPPED, PART OF A GLOBAL NETWORK, AND UNIQUELY SIMPLE TO BUY AND OWN.\",\n",
    "        \"WE WORK WITH WORLD RENOWNED ARCHITECTS TO DESIGN FULLY FURNISHED HOMES THAT ARE READY FROM DAY ONE.\",\n",
    "        \"EACH 0001 HOME IS PART OF OUR GLOBAL PEER-TO-PEER HOUSING COLLECTIVE.\",\n",
    "        \"0001 MEMBERS HELP SHAPE OUR COLLECTIVE AND CAN STAY FOR FREE IN ANY OF OUR LOCATIONS AROUND THE WORLD.\",\n",
    "        \"WE’VE REINVENTED THE HOME BUYING EXPERIENCE SO YOU CAN PURCHASE OUR HOMES SECURELY, ONLINE, IN MINUTES.\"\n",
    "    ]\n"
   ]
  },
  {
   "cell_type": "code",
   "execution_count": 106,
   "metadata": {},
   "outputs": [],
   "source": [
    "embedded_docs = embeddings.embed_documents(raw_documents)"
   ]
  },
  {
   "cell_type": "code",
   "execution_count": 107,
   "metadata": {},
   "outputs": [
    {
     "name": "stdout",
     "output_type": "stream",
     "text": [
      "5 1024\n"
     ]
    }
   ],
   "source": [
    "print(len(embedded_docs), len(embedded_docs[0])) "
   ]
  },
  {
   "cell_type": "markdown",
   "metadata": {},
   "source": [
    "#### Create simple Vector Database"
   ]
  },
  {
   "cell_type": "code",
   "execution_count": 110,
   "metadata": {},
   "outputs": [],
   "source": [
    "# Create Document Objects\n",
    "from langchain.schema import Document\n",
    "prepped_documents = [Document(page_content=text) for text in raw_documents]"
   ]
  },
  {
   "cell_type": "code",
   "execution_count": 111,
   "metadata": {},
   "outputs": [],
   "source": [
    "from langchain_core.vectorstores import InMemoryVectorStore\n",
    "\n",
    "vector_store = InMemoryVectorStore.from_documents(prepped_documents, OpenAIEmbeddings())"
   ]
  },
  {
   "cell_type": "markdown",
   "metadata": {},
   "source": [
    "#### Do a similarity search with a query"
   ]
  },
  {
   "cell_type": "code",
   "execution_count": 115,
   "metadata": {},
   "outputs": [
    {
     "name": "stdout",
     "output_type": "stream",
     "text": [
      "* WE WORK WITH WORLD RENOWNED ARCHITECTS TO DESIGN FULLY FURNISHED HOMES THAT ARE READY FROM DAY ONE.\n"
     ]
    }
   ],
   "source": [
    "query = \"is furniture included?\"\n",
    "\n",
    "results = vector_store.similarity_search(query=query, k=1)\n",
    "\n",
    "for result in results:\n",
    "    print(f\"* {result.page_content}\")"
   ]
  },
  {
   "cell_type": "markdown",
   "metadata": {},
   "source": [
    "## Slightly advanced example with LLM integration"
   ]
  },
  {
   "cell_type": "markdown",
   "metadata": {},
   "source": [
    "### Load data from a URL  \n",
    "https://python.langchain.com/docs/integrations/document_loaders/web_base/"
   ]
  },
  {
   "cell_type": "markdown",
   "metadata": {},
   "source": [
    "DocumentLoaders are objects that load in data from a source and return a list of Documents.  \n",
    "A Document is an object with some page_content (str) and metadata (dict).  \n",
    "https://python.langchain.com/docs/how_to/#document-loaders"
   ]
  },
  {
   "cell_type": "code",
   "execution_count": 2,
   "metadata": {},
   "outputs": [
    {
     "name": "stderr",
     "output_type": "stream",
     "text": [
      "USER_AGENT environment variable not set, consider setting it to identify your requests.\n"
     ]
    }
   ],
   "source": [
    "from langchain_community.document_loaders import WebBaseLoader\n",
    "import os\n",
    "\n",
    "os.environ['USER_AGENT'] = 'Mozilla/5.0 (Windows NT 10.0; Win64; x64) AppleWebKit/537.36 (KHTML, like Gecko) Chrome/120.0.0.0 Safari/537.36'"
   ]
  },
  {
   "cell_type": "markdown",
   "metadata": {},
   "source": [
    "#### Load a single page  \n",
    "NOTE: our website currently doesn't seem to work well w/ the WebBaseLoaders"
   ]
  },
  {
   "cell_type": "code",
   "execution_count": 3,
   "metadata": {},
   "outputs": [
    {
     "name": "stdout",
     "output_type": "stream",
     "text": [
      "Learn how to own your home and live anywhere | Home0001HOME0001MenuHOME0001MenuHomes:0001: Lower East SideStudioStudio Max1 Bedr\n"
     ]
    }
   ],
   "source": [
    "loader = WebBaseLoader(\"https://www.home0001.com/how-it-works\")\n",
    "doc = loader.load()\n",
    "print(doc[0].page_content[:128])"
   ]
  },
  {
   "cell_type": "markdown",
   "metadata": {},
   "source": [
    "#### Load multiple pages"
   ]
  },
  {
   "cell_type": "code",
   "execution_count": 4,
   "metadata": {},
   "outputs": [
    {
     "name": "stdout",
     "output_type": "stream",
     "text": [
      "Legal Notices for 0001 homesHOME0001MenuHOME0001MenuHomes:0001: Lower East SideStudioStudio Max1 Bedroom0001: Bed-Stuy1 Bedroom2\n"
     ]
    }
   ],
   "source": [
    "loader_multiple_pages = WebBaseLoader([\"https://www.home0001.com/how-it-works\", \"https://www.home0001.com/legal\"])\n",
    "docs = loader_multiple_pages.load()\n",
    "print(docs[1].page_content[:128])"
   ]
  },
  {
   "cell_type": "markdown",
   "metadata": {},
   "source": [
    "### Pre-process data\n"
   ]
  },
  {
   "cell_type": "markdown",
   "metadata": {},
   "source": [
    "#### Chunk, split and store the data\n",
    "\n",
    "-> it's important to figure out the right chunk size later on\n",
    "\n",
    "We use RecursiveCharacterTextSplitter, which will recursively split the document using common separators like new lines until each chunk is the appropriate size.  \n",
    "This is the recommended text splitter for generic text use cases.\n",
    "\n",
    "We set add_start_index=True so that the character index where each split Document starts within the initial Document is preserved as metadata attribute “start_index”.  \n",
    "\n",
    "Next we need to index our text chunks so that we can search over them at runtime. The most common way to do this is to embed the contents of each document split and insert these embeddings into a vector database (or vector store). When we want to search over our splits, we take a text search query, embed it, and perform some sort of “similarity” search to identify the stored splits with the most similar embeddings to our query embedding. The simplest similarity measure is cosine similarity — we measure the cosine of the angle between each pair of embeddings (which are high dimensional vectors)."
   ]
  },
  {
   "cell_type": "code",
   "execution_count": 5,
   "metadata": {},
   "outputs": [
    {
     "name": "stdout",
     "output_type": "stream",
     "text": [
      "2\n",
      "876\n",
      "{'source': 'https://www.home0001.com/legal', 'title': 'Legal Notices for 0001 homes', 'description': 'Own the perfect home.', 'language': 'en'}\n"
     ]
    }
   ],
   "source": [
    "from langchain_chroma import Chroma\n",
    "from langchain_openai import OpenAIEmbeddings\n",
    "from langchain_text_splitters import RecursiveCharacterTextSplitter\n",
    "\n",
    "# set up the splitter\n",
    "text_splitter = RecursiveCharacterTextSplitter(chunk_size=1000, chunk_overlap=200)\n",
    "# split the docs\n",
    "splits = text_splitter.split_documents(docs)\n",
    "\n",
    "print(len(splits))\n",
    "print(len(splits[1].page_content))\n",
    "print(splits[1].metadata)"
   ]
  },
  {
   "cell_type": "markdown",
   "metadata": {},
   "source": [
    "### Create a Vector database\n",
    "\n",
    "In this example we use `OpenAIEmbeddings` and a `Chroma` database"
   ]
  },
  {
   "cell_type": "code",
   "execution_count": 8,
   "metadata": {},
   "outputs": [],
   "source": [
    "# create a vector database with the splits\n",
    "vectorstore = Chroma.from_documents(\n",
    "    documents=splits, \n",
    "    embedding=OpenAIEmbeddings(model=\"text-embedding-3-large\"),\n",
    "    # persist_directory=\"./chroma_langchain_db\",  # Where to save data locally, remove if not necessary\n",
    ")"
   ]
  },
  {
   "cell_type": "markdown",
   "metadata": {},
   "source": [
    "### Retrieve"
   ]
  },
  {
   "cell_type": "markdown",
   "metadata": {},
   "source": [
    "A Retriever is an interface that returns relevant Documents from an index based on a string query.  \n",
    "\n",
    "A vector store retriever is a retriever that uses a vector store to retrieve documents.  \n",
    "\n",
    "Any VectorStore can easily be turned into a Retriever with `VectorStore.as_retriever()`"
   ]
  },
  {
   "cell_type": "code",
   "execution_count": 9,
   "metadata": {},
   "outputs": [
    {
     "name": "stdout",
     "output_type": "stream",
     "text": [
      "6\n",
      "Learn how to own your home and live anywhere | Home0001HOME0001MenuHOME0001MenuHomes:0001: Lower East SideStudioStudio Max1 Bedr\n"
     ]
    }
   ],
   "source": [
    "retriever = vectorstore.as_retriever(search_type=\"similarity\", search_kwargs={\"k\": 6})\n",
    "retrieved_docs = retriever.invoke(\"What is home0001?\")\n",
    "\n",
    "print(len(retrieved_docs))\n",
    "print(retrieved_docs[0].page_content[:128])"
   ]
  },
  {
   "cell_type": "markdown",
   "metadata": {},
   "source": [
    "other retrieval techniques include:  \n",
    "- MultiQueryRetriever generates variants of the input question to improve retrieval hit rate.\n",
    "- MultiVectorRetriever instead generates variants of the embeddings, also in order to improve retrieval hit rate.\n",
    "- Maximal marginal relevance selects for relevance and diversity among the retrieved documents to avoid passing in duplicate context.\n",
    "- Documents can be filtered during vector store retrieval using metadata filters, such as with a Self Query Retriever."
   ]
  },
  {
   "cell_type": "markdown",
   "metadata": {},
   "source": [
    "### Generate "
   ]
  },
  {
   "cell_type": "code",
   "execution_count": 10,
   "metadata": {},
   "outputs": [
    {
     "name": "stderr",
     "output_type": "stream",
     "text": [
      "/home/studio/anaconda3/envs/rag/lib/python3.10/site-packages/langsmith/client.py:241: LangSmithMissingAPIKeyWarning: API key must be provided when using hosted LangSmith API\n",
      "  warnings.warn(\n"
     ]
    },
    {
     "name": "stdout",
     "output_type": "stream",
     "text": [
      "You are an assistant for question-answering tasks. Use the following pieces of retrieved context to answer the question. If you don't know the answer, just say that you don't know. Use three sentences maximum and keep the answer concise.\n",
      "Question: filler question \n",
      "Context: filler context \n",
      "Answer:\n"
     ]
    }
   ],
   "source": [
    "from langchain import hub\n",
    "\n",
    "# use default prompt template\n",
    "prompt = hub.pull(\"rlm/rag-prompt\")\n",
    "\n",
    "example_messages = prompt.invoke(\n",
    "    {\"context\": \"filler context\", \"question\": \"filler question\"}\n",
    ").to_messages()\n",
    "\n",
    "# print(example_messages)\n",
    "print(example_messages[0].content)"
   ]
  },
  {
   "cell_type": "code",
   "execution_count": 11,
   "metadata": {},
   "outputs": [],
   "source": [
    "from langchain_openai import ChatOpenAI\n",
    "\n",
    "llm = ChatOpenAI(model=\"gpt-4o-mini\")"
   ]
  },
  {
   "cell_type": "code",
   "execution_count": 13,
   "metadata": {},
   "outputs": [
    {
     "name": "stdout",
     "output_type": "stream",
     "text": [
      "Home0001 appears to be a platform that offers various types of residential properties, including studios, one-bedroom, and two-bedroom apartments, as well as townhouses and bungalows in different locations such as New York, Los Angeles, Berlin, and London. It aims to help individuals learn how to own their homes and live anywhere. The website includes a menu with options for homes, contact information, and legal notices.\n",
      "\n",
      "Yes, you can rent an apartment. There are various options available, including studios and one or two-bedroom apartments in locations like Lower East Side, Bed-Stuy, and Echo Park. You may want to check specific listings for availability and pricing.\n"
     ]
    }
   ],
   "source": [
    "from langchain_core.output_parsers import StrOutputParser\n",
    "from langchain_core.runnables import RunnablePassthrough\n",
    "\n",
    "def format_docs(docs):\n",
    "    return \"\\n\\n\".join(doc.page_content for doc in docs)\n",
    "\n",
    "# print(format_docs(docs))\n",
    "\n",
    "rag_chain = (\n",
    "    {\"context\": retriever | format_docs, \"question\": RunnablePassthrough()}\n",
    "    | prompt\n",
    "    | llm\n",
    "    | StrOutputParser()\n",
    ")\n",
    "\n",
    "for chunk in rag_chain.stream(\"What is Home0001?\"):\n",
    "    print(chunk, end=\"\", flush=True)\n",
    "\n",
    "print('\\n')\n",
    "print(rag_chain.invoke(\"can i rent an apartment?\"))"
   ]
  },
  {
   "cell_type": "code",
   "execution_count": 14,
   "metadata": {},
   "outputs": [],
   "source": [
    "# cleanup\n",
    "vectorstore.delete_collection()"
   ]
  },
  {
   "cell_type": "markdown",
   "metadata": {},
   "source": [
    "## More detailed examples"
   ]
  },
  {
   "cell_type": "markdown",
   "metadata": {},
   "source": [
    "#### Load documents with FireCrawl"
   ]
  },
  {
   "cell_type": "code",
   "execution_count": 38,
   "metadata": {},
   "outputs": [],
   "source": [
    "from dotenv import load_dotenv\n",
    "import os\n",
    "\n",
    "# Load the .env file\n",
    "load_dotenv()\n",
    "fc_api_key = os.getenv('FIRECRAWL_API_KEY')\n",
    "\n",
    "from langchain_community.document_loaders.firecrawl import FireCrawlLoader\n",
    "\n",
    "loader = FireCrawlLoader(\n",
    "    api_key=fc_api_key, url=\"https://www.home0001.com/\", mode=\"crawl\"\n",
    ")\n",
    "\n",
    "pages = loader.load()"
   ]
  },
  {
   "cell_type": "code",
   "execution_count": 39,
   "metadata": {},
   "outputs": [
    {
     "name": "stdout",
     "output_type": "stream",
     "text": [
      "# 0001 HOMES ARE FULLY EQUIPPED, PART OF A GLOBAL NETWORK, AND UNIQUELY SIMPLE TO BUY AND OWN.\n",
      "\n",
      "![HOME0001 Echo Park Townhouse 7\n"
     ]
    }
   ],
   "source": [
    "print(pages[0].page_content[:128])"
   ]
  },
  {
   "cell_type": "markdown",
   "metadata": {},
   "source": [
    "#### Embedding Models"
   ]
  },
  {
   "cell_type": "markdown",
   "metadata": {},
   "source": [
    "There are various other embedding models to choose from"
   ]
  },
  {
   "cell_type": "code",
   "execution_count": 40,
   "metadata": {},
   "outputs": [],
   "source": [
    "# pip install \"gpt4all[cuda]\"\n",
    "from langchain_huggingface import HuggingFaceEmbeddings\n",
    "from langchain_community.embeddings import GPT4AllEmbeddings\n",
    "from langchain_ollama import OllamaEmbeddings\n",
    "\n",
    "\n",
    "hf_embd = HuggingFaceEmbeddings(model_name=\"sentence-transformers/all-mpnet-base-v2\")\n",
    "gpt4all_embd = GPT4AllEmbeddings()\n",
    "ollama_embd = OllamaEmbeddings(model=\"llama3.1\")"
   ]
  },
  {
   "cell_type": "markdown",
   "metadata": {},
   "source": [
    "BGE models on the HuggingFace are one of the best open-source embedding models. BGE model is created by the Beijing Academy of Artificial Intelligence (BAAI)"
   ]
  },
  {
   "cell_type": "code",
   "execution_count": 119,
   "metadata": {},
   "outputs": [],
   "source": [
    "from langchain_community.embeddings import HuggingFaceBgeEmbeddings\n",
    "\n",
    "model_name = \"BAAI/bge-small-en\"\n",
    "model_kwargs = {\"device\": \"cuda\"}\n",
    "encode_kwargs = {\"normalize_embeddings\": True}\n",
    "bge_embd = HuggingFaceBgeEmbeddings(\n",
    "    model_name=model_name, model_kwargs=model_kwargs, encode_kwargs=encode_kwargs\n",
    ")"
   ]
  },
  {
   "cell_type": "markdown",
   "metadata": {},
   "source": [
    "Note that you need to pass query_instruction=\"\" for model_name=\"BAAI/bge-m3\"."
   ]
  },
  {
   "cell_type": "markdown",
   "metadata": {},
   "source": [
    "#### Text Splitting"
   ]
  },
  {
   "cell_type": "markdown",
   "metadata": {},
   "source": [
    "Set up various text splitters"
   ]
  },
  {
   "cell_type": "code",
   "execution_count": 42,
   "metadata": {},
   "outputs": [],
   "source": [
    "from langchain_text_splitters import CharacterTextSplitter\n",
    "\n",
    "char_text_splitter = CharacterTextSplitter(\n",
    "    chunk_size=1000, \n",
    "    chunk_overlap=0\n",
    "    )\n",
    "\n",
    "rec_text_splitter = RecursiveCharacterTextSplitter(\n",
    "    chunk_size=1000, \n",
    "    chunk_overlap=200, \n",
    "    separators=[\" \", \",\", \"\\n\"]\n",
    "    )"
   ]
  },
  {
   "cell_type": "markdown",
   "metadata": {},
   "source": [
    "Instead of default or recursive, we can also use a Semantic Chunker with one of our Embedding Models.  \n",
    "\n",
    "https://python.langchain.com/docs/how_to/semantic-chunker/  \n",
    "\n",
    "The default way to split is based on `percentile`. In this method, all differences between sentences are calculated, and then any difference greater than the X percentile is split.  \n",
    "there are also options like `standard_deviation`, `interquartile` or `gradient`"
   ]
  },
  {
   "cell_type": "code",
   "execution_count": null,
   "metadata": {},
   "outputs": [],
   "source": [
    "from langchain_experimental.text_splitter import SemanticChunker\n",
    "\n",
    "hf_sem_text_splitter = SemanticChunker(hf_embd, breakpoint_threshold_type=\"percentile\")\n",
    "llama_sem_text_splitter = SemanticChunker(ollama_embd)"
   ]
  },
  {
   "cell_type": "code",
   "execution_count": null,
   "metadata": {},
   "outputs": [],
   "source": [
    "char_splits = char_text_splitter.split_documents(pages)\n",
    "rec_splits = rec_text_splitter.split_documents(pages)\n",
    "hf_sem_splits = hf_sem_text_splitter.split_documents(pages)\n",
    "llama_sem_splits = llama_sem_text_splitter.split_documents(pages)"
   ]
  },
  {
   "cell_type": "code",
   "execution_count": 45,
   "metadata": {},
   "outputs": [
    {
     "name": "stdout",
     "output_type": "stream",
     "text": [
      "280 842\n",
      "313 876\n",
      "80 6112\n",
      "80 6201\n"
     ]
    }
   ],
   "source": [
    "print(len(char_splits), len(char_splits[0].page_content))\n",
    "print(len(rec_splits), len(rec_splits[0].page_content))\n",
    "print(len(hf_sem_splits), len(hf_sem_splits[0].page_content))\n",
    "print(len(llama_sem_splits),len(llama_sem_splits[0].page_content))"
   ]
  },
  {
   "cell_type": "markdown",
   "metadata": {},
   "source": [
    "#### Create Vector Databases from the splits"
   ]
  },
  {
   "cell_type": "code",
   "execution_count": 63,
   "metadata": {},
   "outputs": [],
   "source": [
    "# pip install -qU langchain_community faiss-cpu\n",
    "from langchain_community.vectorstores import FAISS\n",
    "\n",
    "faiss_vectorstore_hf = FAISS.from_documents(hf_sem_splits, hf_embd)"
   ]
  },
  {
   "cell_type": "code",
   "execution_count": 70,
   "metadata": {},
   "outputs": [],
   "source": [
    "from langchain_community.vectorstores.utils import filter_complex_metadata\n",
    "\n",
    "# Chroma is being a bit picky about metadata formats, this should solve it\n",
    "cleaned_splits = filter_complex_metadata(llama_sem_splits)\n",
    "\n",
    "chroma_vectorstore_llama = Chroma.from_documents(\n",
    "    cleaned_splits, \n",
    "    hf_embd\n",
    "    )\n"
   ]
  },
  {
   "cell_type": "markdown",
   "metadata": {},
   "source": [
    "#### Invoke retrievers"
   ]
  },
  {
   "cell_type": "code",
   "execution_count": null,
   "metadata": {},
   "outputs": [],
   "source": [
    "faiss_hf_retriever = faiss_vectorstore_hf.as_retriever()\n",
    "\n",
    "chroma_llama_retriever = chroma_vectorstore_llama.as_retriever()"
   ]
  },
  {
   "cell_type": "code",
   "execution_count": 72,
   "metadata": {},
   "outputs": [
    {
     "name": "stdout",
     "output_type": "stream",
     "text": [
      "[Document(metadata={'url': 'https://www.home0001.com/legal', 'ogUrl': 'https://www.home0001.com/legal', 'title': 'Legal Notices for 0001 homes', 'og:url': 'https://www.home0001.com/legal', 'og:type': 'website', 'ogTitle': 'Legal Notices for 0001 homes', 'keywords': 'Furnished Homes Flexible Living', 'language': 'en', 'og:title': 'Legal Notices for 0001 homes', 'viewport': 'width=device-width, initial-scale=1 maximum-scale=1', 'sourceURL': 'https://www.home0001.com/legal', 'ogSiteName': 'HOME0001', 'statusCode': 200, 'description': 'Own the perfect home.', 'og:site_name': 'HOME0001', 'twitter:card': 'summary', 'ogDescription': 'Own the perfect home.', 'twitter:title': 'Legal Notices for 0001 homes', 'og:description': 'Own the perfect home.', 'next-head-count': '17', 'ogLocaleAlternate': [], 'twitter:description': 'Own the perfect home.'}, page_content='HOME0001 International Inc. is committed to equal housing opportunity, fair housing laws, New York Real Estate Standard Operating Procedures, and reasonable accommodations. HOME0001 International, Inc.,\\n\\n48 Allen Street, New York, NY, 10002\\n\\nRegistered Agent:\\n\\nCORPORATION SERVICE COMPANY,\\n\\n80 State St., Albany, NY 12207\\n\\nHOME0001 International Inc:\\n\\nNY DRE # 10991239104\\n\\nCA DRE # 02236922\\n\\nThomas J Karras:\\n\\nNY DRE #10311210425\\n\\nCA DRE #02110748\\n\\n+1(678) 209-8880\\n\\ncollective@home0001.com\\n\\nMarty Hanna:\\n\\nNY DRE #10991239104\\n\\n+1 (786) 863-3711\\n\\n[collective@home0001.com](mailto:collective@home0001.com)\\n\\nQUICKLINKS\\n\\nI. [Website Terms of Service](/legal#terms-of-service)\\n\\nII.'), Document(metadata={'url': 'https://www.home0001.com/how-it-works', 'ogUrl': 'https://www.home0001.com/how-it-works', 'title': 'Learn how to own your home and live anywhere | Home0001', 'og:url': 'https://www.home0001.com/how-it-works', 'og:type': 'website', 'ogTitle': 'Learn how to own your home and live anywhere | Home0001', 'keywords': 'Furnished Homes Flexible Living', 'language': 'en', 'og:title': 'Learn how to own your home and live anywhere | Home0001', 'viewport': 'width=device-width, initial-scale=1 maximum-scale=1', 'sourceURL': 'https://www.home0001.com/how-it-works', 'ogSiteName': 'HOME0001', 'statusCode': 200, 'description': 'Flexible Living Fully Furnished Homes For Sale | Home0001', 'og:site_name': 'HOME0001', 'twitter:card': 'summary', 'ogDescription': 'Flexible Living Fully Furnished Homes For Sale | Home0001', 'twitter:title': 'Learn how to own your home and live anywhere | Home0001', 'og:description': 'Flexible Living Fully Furnished Homes For Sale | Home0001', 'next-head-count': '17', 'ogLocaleAlternate': [], 'twitter:description': 'Flexible Living Fully Furnished Homes For Sale | Home0001'}, page_content=\"You can use your own mortgage broker, real estate attorney, etc., or we can introduce you to our network of vetted professionals. ### **Is furniture included?**\\n\\nYes, each new home comes fully furnished and equipped so that you can move in easily with just your suitcase. Each interior is designed for flexibility and functionality and we work directly with designers from our community to source pieces often straight from their studios. ### Do I have to make my home available? No, that’s entirely optional. There's no requirement to make your home available to other members unless you specifically want to take advantage of staying at another 0001 home for free during that time. ### **Can I change the design of my 0001 home?**\\n\\nAbsolutely! You are free to change, renovate, or even remodel your home as you see fit.However, for continued access to HOME0001's network in other locations, your home does need to meet our standards and our team will be happy to support you in making changes where desired. ### How do I book a 0001 home somewhere else? Whenever you want to spend time in other HOME0001 locations, just text us your dates and we'll confirm availability. You cover one cleaning fee each time you swap homes and don't pay any nightly rates. 0001 homes are fitted with smart locks, so you can gain access to your new place with your phone. You’ll be invited to any community events that are taking place locally and you’ll have continual access to our virtual concierge service so you can text us whenever you need anything.\"), Document(metadata={'url': 'https://www.home0001.com/how-it-works', 'ogUrl': 'https://www.home0001.com/how-it-works', 'title': 'Learn how to own your home and live anywhere | Home0001', 'og:url': 'https://www.home0001.com/how-it-works', 'og:type': 'website', 'ogTitle': 'Learn how to own your home and live anywhere | Home0001', 'keywords': 'Furnished Homes Flexible Living', 'language': 'en', 'og:title': 'Learn how to own your home and live anywhere | Home0001', 'viewport': 'width=device-width, initial-scale=1 maximum-scale=1', 'sourceURL': 'https://www.home0001.com/how-it-works', 'ogSiteName': 'HOME0001', 'statusCode': 200, 'description': 'Flexible Living Fully Furnished Homes For Sale | Home0001', 'og:site_name': 'HOME0001', 'twitter:card': 'summary', 'ogDescription': 'Flexible Living Fully Furnished Homes For Sale | Home0001', 'twitter:title': 'Learn how to own your home and live anywhere | Home0001', 'og:description': 'Flexible Living Fully Furnished Homes For Sale | Home0001', 'next-head-count': '17', 'ogLocaleAlternate': [], 'twitter:description': 'Flexible Living Fully Furnished Homes For Sale | Home0001'}, page_content=\"## **0001 homes are fully equipped, part of a global network, and uniquely simple to buy and own.**\\n\\n# HOW IT WORKS:\\n\\n# Buy. We’ve reinvented the typical months-long ordeal of buying a home and streamlined every part of it. You can spend time in your new home to see how it feels and then buy it online instantly, safely, and securely. We’ll guide you through each step, from choosing the right home and getting financing to completing the purchase online at your own pace. # Move in. Each new 0001 home is fully equipped with all the furniture, appliances, and home essentials you’ll need. Developed in collaboration with world-class architects, every detail has been thoughtfully designed, so you can truly move in with nothing but your suitcase. # Swap. HOME0001 is a peer-to-peer housing collective. Members of the collective get access to 0001 homes in other locations, so you can spend time in other places for free while making your home available to other members while you’re away. # Total control. You own your home outright. You're 100% in control, just like owning any other home. It’s your call whether you make your home available to other members of the collective, and you’re free to rent or sell your home however and whenever you like. # FAQ:\\n\\n### Do I own my 0001 home outright? Yes. Owning a 0001 home is no different than when purchasing any other property. HOME0001 is distinguished by a commitment to meticulous and cohesive design with the added benefit of access to our network of homes so you can spend time in similar properties around the world for free. ### Do I need a broker? No, you don't need a real estate broker to buy a 0001 home. We’re licensed to guide you through the process from beginning to end.\"), Document(metadata={'url': 'https://www.home0001.com/legal', 'ogUrl': 'https://www.home0001.com/legal', 'title': 'Legal Notices for 0001 homes', 'og:url': 'https://www.home0001.com/legal', 'og:type': 'website', 'ogTitle': 'Legal Notices for 0001 homes', 'keywords': 'Furnished Homes Flexible Living', 'language': 'en', 'og:title': 'Legal Notices for 0001 homes', 'viewport': 'width=device-width, initial-scale=1 maximum-scale=1', 'sourceURL': 'https://www.home0001.com/legal', 'ogSiteName': 'HOME0001', 'statusCode': 200, 'description': 'Own the perfect home.', 'og:site_name': 'HOME0001', 'twitter:card': 'summary', 'ogDescription': 'Own the perfect home.', 'twitter:title': 'Legal Notices for 0001 homes', 'og:description': 'Own the perfect home.', 'next-head-count': '17', 'ogLocaleAlternate': [], 'twitter:description': 'Own the perfect home.'}, page_content='**6\\\\. TRANSACTIONS**\\n\\nWe may make available the ability to “hold your spot” or reserve certain Products through the Site (a “Transaction”). If you initiate or make a Transaction, you hereby agree that such Transaction and any of your activities in connection therewith will be governed by the Deposit Terms and Conditions, located at www.home0001.com/legal/#deposit-terms. In connection with a Transaction, you may be asked to supply certain relevant information, such as your credit card number and its expiration date, your billing address and your shipping information. You represent and warrant that you have the right to use any credit card that you submit in connection with a Transaction. By submitting such information, you grant to us the right to provide such information to third parties for purposes of facilitating Transactions. Verification of information may be required prior to the acknowledgment or completion of any Transaction. By making a Transaction, you represent and warrant that the applicable Products will be used only in a lawful manner. Home0001 reserves the right, including without prior notice, to (a) limit the available quantity of or discontinue making available any Product, (b) to impose conditions on the honoring of any coupon, discount or similar promotion, (c) to bar any user from making any Transaction, and (d) to refuse to provide any user with any Product. Refunds and exchanges will be subject to Home0001’s applicable refund and exchange policies. You agree to pay all charges incurred by you or on your behalf through the Site, at the prices in effect when such charges are incurred.')]\n",
      "[Document(metadata={'description': 'Own the perfect home.', 'keywords': 'Furnished Homes Flexible Living', 'language': 'en', 'next-head-count': '17', 'og:description': 'Own the perfect home.', 'og:site_name': 'HOME0001', 'og:title': 'Legal Notices for 0001 homes', 'og:type': 'website', 'og:url': 'https://www.home0001.com/legal', 'ogDescription': 'Own the perfect home.', 'ogSiteName': 'HOME0001', 'ogTitle': 'Legal Notices for 0001 homes', 'ogUrl': 'https://www.home0001.com/legal', 'sourceURL': 'https://www.home0001.com/legal', 'statusCode': 200, 'title': 'Legal Notices for 0001 homes', 'twitter:card': 'summary', 'twitter:description': 'Own the perfect home.', 'twitter:title': 'Legal Notices for 0001 homes', 'url': 'https://www.home0001.com/legal', 'viewport': 'width=device-width, initial-scale=1 maximum-scale=1'}, page_content='Please note that Home0001 does not endorse any of the products or services listed on such site.'), Document(metadata={'description': 'Own the perfect home.', 'keywords': 'Furnished Homes Flexible Living', 'language': 'en', 'next-head-count': '17', 'og:description': 'Own the perfect home.', 'og:site_name': 'HOME0001', 'og:title': 'Legal Notices for 0001 homes', 'og:type': 'website', 'og:url': 'https://www.home0001.com/legal', 'ogDescription': 'Own the perfect home.', 'ogSiteName': 'HOME0001', 'ogTitle': 'Legal Notices for 0001 homes', 'ogUrl': 'https://www.home0001.com/legal', 'sourceURL': 'https://www.home0001.com/legal', 'statusCode': 200, 'title': 'Legal Notices for 0001 homes', 'twitter:card': 'summary', 'twitter:description': 'Own the perfect home.', 'twitter:title': 'Legal Notices for 0001 homes', 'url': 'https://www.home0001.com/legal', 'viewport': 'width=device-width, initial-scale=1 maximum-scale=1'}, page_content='Please note that Home0001 does not endorse any of the products or services listed on such site.'), Document(metadata={'description': 'Own the perfect home.', 'keywords': 'Furnished Homes Flexible Living', 'language': 'en', 'next-head-count': '17', 'og:description': 'Own the perfect home.', 'og:site_name': 'HOME0001', 'og:title': 'Legal Notices for 0001 homes', 'og:type': 'website', 'og:url': 'https://www.home0001.com/legal', 'ogDescription': 'Own the perfect home.', 'ogSiteName': 'HOME0001', 'ogTitle': 'Legal Notices for 0001 homes', 'ogUrl': 'https://www.home0001.com/legal', 'sourceURL': 'https://www.home0001.com/legal', 'statusCode': 200, 'title': 'Legal Notices for 0001 homes', 'twitter:card': 'summary', 'twitter:description': 'Own the perfect home.', 'twitter:title': 'Legal Notices for 0001 homes', 'url': 'https://www.home0001.com/legal', 'viewport': 'width=device-width, initial-scale=1 maximum-scale=1'}, page_content='JURISDICTIONAL ISSUES**\\n\\nThe Site is controlled or operated (or both) from the United States, and is not intended to subject Home0001 to any non-U.S.'), Document(metadata={'description': 'Own the perfect home.', 'keywords': 'Furnished Homes Flexible Living', 'language': 'en', 'next-head-count': '17', 'og:description': 'Own the perfect home.', 'og:site_name': 'HOME0001', 'og:title': 'Legal Notices for 0001 homes', 'og:type': 'website', 'og:url': 'https://www.home0001.com/legal', 'ogDescription': 'Own the perfect home.', 'ogSiteName': 'HOME0001', 'ogTitle': 'Legal Notices for 0001 homes', 'ogUrl': 'https://www.home0001.com/legal', 'sourceURL': 'https://www.home0001.com/legal', 'statusCode': 200, 'title': 'Legal Notices for 0001 homes', 'twitter:card': 'summary', 'twitter:description': 'Own the perfect home.', 'twitter:title': 'Legal Notices for 0001 homes', 'url': 'https://www.home0001.com/legal', 'viewport': 'width=device-width, initial-scale=1 maximum-scale=1'}, page_content='JURISDICTIONAL ISSUES**\\n\\nThe Site is controlled or operated (or both) from the United States, and is not intended to subject Home0001 to any non-U.S.')]\n"
     ]
    }
   ],
   "source": [
    "test_query = \"Where is home0001 available?\"\n",
    "\n",
    "print(faiss_hf_retriever.invoke(test_query))\n",
    "print(chroma_llama_retriever.invoke(test_query))"
   ]
  },
  {
   "cell_type": "markdown",
   "metadata": {},
   "source": [
    "By default, the vector store retriever uses similarity search. If the underlying vector store supports maximum marginal relevance search (`mmr`), you can specify that as the search type.  \n",
    "\n",
    "We can also set a similarity `score_threshold` and only return documents with a score above that threshold, as well as top `k` documents returned by the retriever.  \n",
    "\n",
    "`MultiQueryRetriever` generates variants of the input question to improve retrieval hit rate.  \n",
    "`MultiVectorRetriever` instead generates variants of the embeddings, also in order to improve retrieval hit rate.  \n",
    "`Maximal marginal relevance` selects for relevance and diversity among the retrieved documents to avoid passing in duplicate context."
   ]
  },
  {
   "cell_type": "code",
   "execution_count": null,
   "metadata": {},
   "outputs": [],
   "source": [
    "# there are various ways of creating the retriever:\n",
    "sim_retriever = chroma_vectorstore_llama.as_retriever(\n",
    "    search_type=\"similarity_score_threshold\", search_kwargs={\"score_threshold\": 0.5, \"k\": 1}\n",
    ")\n",
    "mmr_retriever = chroma_vectorstore_llama.as_retriever(search_type=\"mmr\")"
   ]
  },
  {
   "cell_type": "markdown",
   "metadata": {},
   "source": [
    "#### Create prompt templates"
   ]
  },
  {
   "cell_type": "code",
   "execution_count": null,
   "metadata": {},
   "outputs": [],
   "source": [
    "# simple version\n",
    "from langchain import hub\n",
    "\n",
    "prompt = hub.pull(\"rlm/rag-prompt\")"
   ]
  },
  {
   "cell_type": "code",
   "execution_count": null,
   "metadata": {},
   "outputs": [],
   "source": [
    "# slightly more verbose\n",
    "from langchain_core.prompts import ChatPromptTemplate\n",
    "\n",
    "system_prompt = (\n",
    "    \"You are an assistant for question-answering tasks. \"\n",
    "    \"Use the following pieces of retrieved context to answer \"\n",
    "    \"the question. If you don't know the answer, say that you \"\n",
    "    \"don't know. Use three sentences maximum and keep the \"\n",
    "    \"answer concise.\"\n",
    "    \"\\n\\n\"\n",
    "    \"{context}\"\n",
    ")\n",
    "\n",
    "prompt = ChatPromptTemplate.from_messages(\n",
    "    [\n",
    "        (\"system\", system_prompt),\n",
    "        (\"human\", \"{input}\"),\n",
    "    ]\n",
    ")"
   ]
  },
  {
   "cell_type": "code",
   "execution_count": null,
   "metadata": {},
   "outputs": [
    {
     "name": "stderr",
     "output_type": "stream",
     "text": [
      "/home/studio/anaconda3/envs/rag/lib/python3.10/site-packages/langsmith/client.py:241: LangSmithMissingAPIKeyWarning: API key must be provided when using hosted LangSmith API\n",
      "  warnings.warn(\n"
     ]
    }
   ],
   "source": [
    "from langchain_ollama import ChatOllama\n",
    "\n",
    "llm = ChatOllama(\n",
    "    model = \"llama3.1\",\n",
    "    temperature = 0.8,\n",
    "    num_predict = 256,\n",
    "    # other params ...\n",
    ")\n",
    "\n",
    "from langchain_core.output_parsers import StrOutputParser\n",
    "from langchain_core.runnables import RunnablePassthrough\n",
    "\n",
    "def format_docs(docs):\n",
    "    return \"\\n\\n\".join(doc.page_content for doc in docs)\n",
    "\n",
    "rag_chain = (\n",
    "    {\"context\": faiss_hf_retriever | format_docs, \"question\": RunnablePassthrough()}\n",
    "    | prompt\n",
    "    | llm\n",
    "    | StrOutputParser()\n",
    ")"
   ]
  },
  {
   "cell_type": "code",
   "execution_count": 95,
   "metadata": {},
   "outputs": [
    {
     "name": "stdout",
     "output_type": "stream",
     "text": [
      "Based on the provided text, it appears to be a contract or agreement for purchasing a 0001 home, which seems to be some kind of unique or special product.\n",
      "\n",
      "The answer to your question is not explicitly stated in the provided text, but based on the content, I would guess that you are asking about the eligibility requirements or terms and conditions for placing a deposit on a 0001 home.\n",
      "\n",
      "Therefore, my answer would be:\n",
      "\n",
      "\"According to section 5 of these Deposit Terms, by agreeing to these terms and placing a deposit, one must represent and warrant to Home0001 that they are at least 18 years old, provide accurate information, and understand that specifications and availability of 0001 homes can change.\"\n"
     ]
    }
   ],
   "source": [
    "print(rag_chain.invoke(\"How do I book a 0001 home somewhere else? \"))"
   ]
  }
 ],
 "metadata": {
  "kernelspec": {
   "display_name": "rag",
   "language": "python",
   "name": "python3"
  },
  "language_info": {
   "codemirror_mode": {
    "name": "ipython",
    "version": 3
   },
   "file_extension": ".py",
   "mimetype": "text/x-python",
   "name": "python",
   "nbconvert_exporter": "python",
   "pygments_lexer": "ipython3",
   "version": "3.10.15"
  }
 },
 "nbformat": 4,
 "nbformat_minor": 2
}
