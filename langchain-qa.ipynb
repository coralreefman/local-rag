{
 "cells": [
  {
   "cell_type": "code",
   "execution_count": 3,
   "metadata": {},
   "outputs": [],
   "source": [
    "import json\n",
    "from langchain.schema import Document"
   ]
  },
  {
   "cell_type": "code",
   "execution_count": null,
   "metadata": {},
   "outputs": [],
   "source": [
    "# Load JSON data\n",
    "with open(\"data/home0001qa.json\", \"r\") as file:\n",
    "    qa_data = json.load(file)"
   ]
  },
  {
   "cell_type": "code",
   "execution_count": 5,
   "metadata": {},
   "outputs": [
    {
     "data": {
      "text/plain": [
       "[Document(metadata={'question': 'Do i own my 0001 home outright?'}, page_content='When you buy a 0001 home, you own the title in the traditional way. If you need, we’ll help you find the right mortgage and can recommend real estate lawyers. You keep full legal ownership of your home, with the added benefit that you can spend time in other locations whenever you want.'),\n",
       " Document(metadata={'question': 'Does furniture come included?'}, page_content='Yes, each new home comes fully furnished and equipped so that you can move in easily with just your suitcase. Each interior is designed for flexibility and functionality and we work directly with designers from our community to source pieces often straight from their studios.'),\n",
       " Document(metadata={'question': 'Can i change the design of my home?'}, page_content=\"Legally you own your home and are free to do what you want with it. However, to maintain access to home0001's network in other locations, your home does need to meet our standards and our team can support you in making changes where desired.\"),\n",
       " Document(metadata={'question': 'Are you open to negotiation on price?'}, page_content='No. The practice of negotiation has been shown to systemically disadvantage certain buyer groups, and bidding wars can pit buyers against each other and drive prices up unreasonably. We research the market meticulously and negotiate the best price for our community based on comparable homes sold recently. And by representing a large community of buyers, we’re able to negotiate discounts on entire buildings from developers.'),\n",
       " Document(metadata={'question': 'Do i need a broker?'}, page_content=\"You don't need a real estate broker to buy an 0001 home. We’re licensed to guide you through the process from beginning to end. You can use your own mortgage broker, real estate attorney, etc., or we can intro you to good people to work with.\")]"
      ]
     },
     "execution_count": 5,
     "metadata": {},
     "output_type": "execute_result"
    }
   ],
   "source": [
    "# Prepare documents for LangChain\n",
    "documents = [\n",
    "    Document(page_content=item[\"answer\"], metadata={\"question\": item[\"question\"]})\n",
    "    for item in qa_data\n",
    "]\n",
    "\n",
    "documents[:5]"
   ]
  },
  {
   "cell_type": "code",
   "execution_count": 6,
   "metadata": {},
   "outputs": [
    {
     "name": "stderr",
     "output_type": "stream",
     "text": [
      "/home/studio/anaconda3/envs/rag/lib/python3.10/site-packages/tqdm/auto.py:21: TqdmWarning: IProgress not found. Please update jupyter and ipywidgets. See https://ipywidgets.readthedocs.io/en/stable/user_install.html\n",
      "  from .autonotebook import tqdm as notebook_tqdm\n"
     ]
    }
   ],
   "source": [
    "from langchain_huggingface import HuggingFaceEmbeddings\n",
    "\n",
    "hf_model = HuggingFaceEmbeddings(model_name=\"sentence-transformers/all-mpnet-base-v2\")"
   ]
  },
  {
   "cell_type": "code",
   "execution_count": 7,
   "metadata": {},
   "outputs": [
    {
     "name": "stdout",
     "output_type": "stream",
     "text": [
      "[-0.03706130385398865, 0.03478778153657913, 0.01252020988613367]\n"
     ]
    }
   ],
   "source": [
    "single_text = documents[1].page_content\n",
    "vector = hf_model.embed_query(single_text)\n",
    "print(vector[:3])"
   ]
  },
  {
   "cell_type": "code",
   "execution_count": 8,
   "metadata": {},
   "outputs": [],
   "source": [
    "multiple_texts = [doc.page_content for doc in documents]\n",
    "vectors = hf_model.embed_documents(multiple_texts)"
   ]
  }
 ],
 "metadata": {
  "kernelspec": {
   "display_name": "rag",
   "language": "python",
   "name": "python3"
  },
  "language_info": {
   "codemirror_mode": {
    "name": "ipython",
    "version": 3
   },
   "file_extension": ".py",
   "mimetype": "text/x-python",
   "name": "python",
   "nbconvert_exporter": "python",
   "pygments_lexer": "ipython3",
   "version": "3.10.15"
  }
 },
 "nbformat": 4,
 "nbformat_minor": 2
}
